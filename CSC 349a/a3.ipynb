{
 "cells": [
  {
   "cell_type": "markdown",
   "metadata": {},
   "source": [
    "Q1a)  \n",
    "f(x) = 1 + cos(x)  \n",
    "f'(x) = -sin(x)  \n",
    "xf'(x)/f(x) when x = 3.14:  \n",
    "    3943.104  \n",
    "  \n",
    "xf'(x)/f(x) when x = o.51:  \n",
    "    0.132944  \n",
    "  \n",
    "f(x) is well conditioned for values near 0.5, but not for values near pi  \n",
    "\n",
    "\n",
    "Q1b)  \n",
    "x = pi, x^ = 3.14:  \n",
    "    input error: |x-x^|/x^ = 0.0005072145  \n",
    "    output error: (f(x) - f(x^)) / f(x^) = 1  \n",
    "\n",
    "x = 0.5, x^ = 0.51:  \n",
    "    input error: |x-x^|/x^ = 0.0196078  \n",
    "    output error: (f(x) - f(x^)) / f(x^) = 0.0025845  \n",
    "\n",
    "for x^ = 3.14, the output error is much larger than the input error (about 2000x), so the function is unstable near pi  \n",
    "for x^ = 0.51, the output error is smaller than the input error, so the function is stable near 0.5  \n",
    "this correlates to the results in 1a, since an unstable function means that it is ill-conditioned, and a stable function means that it is well-conditioned, as found in 1a.  "
   ]
  },
  {
   "cell_type": "markdown",
   "metadata": {},
   "source": [
    "Q2a)  \n",
    "g(x) = { 1/2 - (x-pi)^2 / 24        x =/= pi  \n",
    "       { 0.5                        x == pi  \n",
    "\n",
    "Q2b)  \n",
    "fl(g(3.16)) = 0.5908  \n",
    "g(3.16 + e) = 1/2 - (3.16 + e - pi)^2 / 24  \n",
    "            = 0.5 - (0.00033883 / 24) - (e^2)/24 - 0.036814e/24  \n",
    "            = 0.4999858 - (e^2)/24 - 0.0015339455e  \n",
    "both (e^2)/24 and 0.0015339455e can be considered negligible since they will not affect the value of this number up to 4 sig figs.   \n",
    "therefore, for all small perturbations of epsilon, the value will be roughly equal to 0.4999858 which is the real value of g(x).  \n",
    "\n",
    "Q2c)  \n",
    "fl(g(1.41)) = 0.3871  \n",
    "g(1.41) = 0.38690609  \n",
    "error = (r-r^)/r^ = 0.000501167  \n",
    "there is a 0.05% error and approximates to 2 sig figs. since r is roughly equal to r^, this computation is stable.  "
   ]
  },
  {
   "cell_type": "code",
   "execution_count": 93,
   "metadata": {},
   "outputs": [],
   "source": [
    "from math import *\n",
    "\n",
    "\n",
    "def Bisect (xl, xu, eps, imax, f):\n",
    "    iteration = 1\n",
    "    fl = f(xl)\n",
    "\n",
    "    print(\"iteration     approximation\")\n",
    "    while iteration <= imax:\n",
    "        xr = (xl + xu)/2\n",
    "        fr = f(xr)\n",
    "        print(f\"{'%5.f'%iteration} {'%20.8f'%xr}\")\n",
    "\n",
    "        if (fr == 0) or (xu-xl)/fabs(xu+xl) < eps:\n",
    "            return xr\n",
    "        \n",
    "        iteration += 1\n",
    "\n",
    "        fx = fl * fr\n",
    "\n",
    "        if fx < 0:\n",
    "            xu = xr\n",
    "        else:\n",
    "            xl = xr\n",
    "            fl = fr\n",
    "\n",
    "    print(\"failed to converge in\", str(imax), \"iterations\")\n",
    "    return 0"
   ]
  },
  {
   "cell_type": "code",
   "execution_count": 94,
   "metadata": {},
   "outputs": [
    {
     "name": "stdout",
     "output_type": "stream",
     "text": [
      "iteration     approximation\n",
      "    1           2.05000000\n",
      "    2           1.02500000\n",
      "    3           1.53750000\n",
      "    4           1.79375000\n",
      "    5           1.92187500\n",
      "    6           1.98593750\n",
      "    7           2.01796875\n",
      "    8           2.03398437\n",
      "    9           2.04199219\n",
      "   10           2.04599609\n",
      "   11           2.04799805\n",
      "   12           2.04699707\n",
      "   13           2.04749756\n",
      "   14           2.04724731\n",
      "   15           2.04737244\n"
     ]
    }
   ],
   "source": [
    "def f(h):\n",
    "    return pi * h * h * (12.3 - h) / 3 - 45\n",
    "\n",
    "ans = Bisect(0, 4.1, pow(10, -4), 20, f)"
   ]
  },
  {
   "cell_type": "code",
   "execution_count": 95,
   "metadata": {},
   "outputs": [
    {
     "name": "stdout",
     "output_type": "stream",
     "text": [
      "iteration     approximation\n",
      "    1          50.50000000\n",
      "    2          75.25000000\n",
      "    3          62.87500000\n",
      "    4          56.68750000\n",
      "    5          59.78125000\n",
      "    6          61.32812500\n",
      "    7          62.10156250\n",
      "    8          62.48828125\n",
      "    9          62.29492188\n",
      "   10          62.19824219\n",
      "   11          62.14990234\n",
      "   12          62.12573242\n",
      "   13          62.11364746\n",
      "   14          62.10760498\n"
     ]
    }
   ],
   "source": [
    "def g(m):\n",
    "    g = 9.81\n",
    "    c = 13.5\n",
    "    v = 40\n",
    "    t = 10\n",
    "    func = g * m / c * (1 - exp(-c * t / m)) - v\n",
    "    return func\n",
    "\n",
    "ans = Bisect(1, 100, pow(10, -4), 20, g)"
   ]
  }
 ],
 "metadata": {
  "kernelspec": {
   "display_name": ".venv",
   "language": "python",
   "name": "python3"
  },
  "language_info": {
   "codemirror_mode": {
    "name": "ipython",
    "version": 3
   },
   "file_extension": ".py",
   "mimetype": "text/x-python",
   "name": "python",
   "nbconvert_exporter": "python",
   "pygments_lexer": "ipython3",
   "version": "3.13.2"
  }
 },
 "nbformat": 4,
 "nbformat_minor": 2
}
