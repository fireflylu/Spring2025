{
 "cells": [
  {
   "cell_type": "markdown",
   "metadata": {},
   "source": [
    "### Question 1"
   ]
  },
  {
   "cell_type": "code",
   "execution_count": 228,
   "metadata": {},
   "outputs": [
    {
     "name": "stdout",
     "output_type": "stream",
     "text": [
      "2 2.015 2.01494375 2.014944171875\n",
      "0.0074442 0.0000279 0.0000002\n",
      "0.0000005\n",
      "True value rounded to 3 significant digits: 2.015\n",
      "Since the relative error approximation of p3 is less than \n"
     ]
    }
   ],
   "source": [
    "from math import *\n",
    "def f1(x):\n",
    "    t1 = 2\n",
    "    t2 = (x-1) / 4\n",
    "    t3 = (x-1) ** 2 / 64\n",
    "    t4 = (x-1) ** 3 / 512\n",
    "    # print(f\"{'%.3f'%t4}, {t4}\")\n",
    "    p0 = t1\n",
    "    p1 = p0 + t2\n",
    "    p2 = p1 - t3\n",
    "    p3 = p2 + t4\n",
    "    e1 = fabs(p1 - p0) / p1\n",
    "    e2 = fabs(p2 - p1) / p2\n",
    "    e3 = fabs(p3 - p2) / p3\n",
    "    print(p0, p1, p2, p3)\n",
    "    print('%.7f'%e1, '%.7f'%e2, '%.7f'%e3)\n",
    "    print('%.7f'%(0.5 * 10 ** (-6)))\n",
    "    return p3, t4\n",
    "\n",
    "num, t4 = f1(1.06)\n",
    "print(f\"True value rounded to 3 significant digits: {'%.3f'%num}\")\n",
    "print(f\"Since the relative error approximation of p3 is less than \")\n",
    "# print(f\"Since the fourth term is (x-1)^3 / 512 = {'%.3f'%t4} when rounded to the thousands place\")\n",
    "# print(\"(as the thousands place would be 4 significant figures for the overall true value of the funtion),\")\n",
    "# print(\"it is small enough to not affect the final value. thus, when rounded to 3 significant digits,\")\n",
    "# print(\"the remainder values that come after the fourth term will not affect the true value of the \")\n",
    "# print(\"function evaluated at x = 1.06 to the third significant digit.\")\n"
   ]
  },
  {
   "cell_type": "markdown",
   "metadata": {},
   "source": [
    "### Question 2"
   ]
  },
  {
   "cell_type": "markdown",
   "metadata": {},
   "source": [
    "# Part A\n",
    "\n",
    "-8.4661 base 10 to base 5, 4 sig figs  \n",
    "\n",
    "8 % 5 = 1 remainder 3  \n",
    "1 % 5 = 0 remainder 1  \n",
    "0.4661 * 5 = 0.3305 + 2  \n",
    "0.3305 * 5 = 0.6525 + 1  \n",
    "\n",
    "-8.4661 (base 10) = -13.21 (base 5)  \n",
    "\n",
    "-13.21 to q2 system representation:  \n",
    "  s_m = 1  \n",
    "  s_e = 0  \n",
    "    e = 02  \n",
    "    m = 1321  \n",
    "\n",
    "**final answer: 10021321**"
   ]
  },
  {
   "cell_type": "markdown",
   "metadata": {},
   "source": [
    "# Part B\n",
    "\n",
    "00101431\n",
    "  s_m = 0\n",
    "  s_e = 0  \n",
    "    e = 10\n",
    "    m = 1431\n",
    "\n",
    "mantissa = 0.1431 (base 5)\n",
    "exponent = 10 (base 5) or 5 (base 10)\n",
    "mantissa * base ^ exponent\n",
    "0.1431 * 5 ^ 5 = 14310\n",
    "14310 (base 5) to base 10 = \n",
    "0 * 5 ^ 0 + 1 * 5 ^ 1 + 3 * 5 ^ 2 + 4 * 5 ^ 3 + 1 * 5 ^ 4\n",
    " = 0 + 5 + 75 + 500 + 625\n",
    " = 1205\n",
    "\n",
    " 00101431 (system representation) = 1205 (base 10)"
   ]
  },
  {
   "cell_type": "markdown",
   "metadata": {},
   "source": [
    "# Part C\n",
    "\n",
    "Smallest positive decimal number in system representation;\n",
    "  s_m = 0\n",
    "  s_e = 1\n",
    "    e = 44\n",
    "    m = 1000\n",
    "\n",
    "0.1000 (base 5) = 1/5 = 5^(-1)\n",
    "5^(-1) * 5^(-24) = 5^(-25)\n",
    "                 = 3.355 * 10 ^ (-18)\n",
    "\n",
    "final answer: 3.355 * 10 ^ (-18)"
   ]
  },
  {
   "cell_type": "markdown",
   "metadata": {},
   "source": [
    "# Part D\n",
    "\n",
    "p is some number [125_10, 625_10)\n",
    "so p is some number [5^3, 5^4)\n",
    "so b = 5 and t = 4\n",
    "\n",
    "since the number of sigfigs for this system \n",
    "representation is 4, k = 4\n",
    "\n",
    "the formula for the upper bound of the absolute \n",
    "true error of p* is equal to b^(t-k)\n",
    "so, the upper bound is equal to 5^(4-4), which is 1"
   ]
  },
  {
   "cell_type": "markdown",
   "metadata": {},
   "source": [
    "### Question 3"
   ]
  },
  {
   "cell_type": "markdown",
   "metadata": {},
   "source": [
    "# Part A\n",
    "\n",
    "x = -123.4, y = 1.234, f(x,y) = -x - sqrt(x^2 - y) = 0.005000\n",
    "\n",
    "fl(f(x, y)):\n",
    "1. fl(x^2)     = (-123.4) ^ 2 = 15227.56 = 15220\n",
    "2. fl(x^2 - y) = 15220 - 1.234 = 15218.766 = 15210\n",
    "3. fl(sqrt(x^2 - y)) = sqrt(15210) = 123.3288 = 123.3\n",
    "4. fl(-x - sqrt(x^2 - y)) = 123.4 - 123.3 = 0.1\n",
    "\n",
    "relative error = 1 - (0.1 / 0.005000) = 19\n",
    "relative error percentage is 1900%"
   ]
  },
  {
   "cell_type": "markdown",
   "metadata": {},
   "source": [
    "# Part B\n",
    "\n",
    "f(x,y) = -x - sqrt(x^2 - y)\n",
    " = (-x - sqrt(x^2 - y)) * (-x + sqrt(x^2 - y)) / (-x + sqrt(x^2 - y))\n",
    " = x^2 - (x^2 - y) / (-x + sqrt(x^2 - y))\n",
    " = y / (-x + sqrt(x^2 - y))\n",
    "\n",
    "fl(f(x, y)):\n",
    "1. fl(x^2)     = (-123.4) ^ 2 = 15227.56 = 15220\n",
    "2. fl(x^2 - y) = 15220 - 1.234 = 15218.766 = 15210\n",
    "3. fl(sqrt(x^2 - y)) = sqrt(15210) = 123.3288 = 123.3\n",
    "4. fl(-x + sqrt(x^2 - y)) = 123.4 + 123.3 = 246.7\n",
    "5. fl(y / (-x + sqrt(x^2 - y))) = 1.234 / 246.7 = 0.005002"
   ]
  },
  {
   "cell_type": "markdown",
   "metadata": {},
   "source": [
    "# Part C\n",
    "\n",
    "relative error = 1 - (0.005002 / 0.005000) = -0.0004\n",
    "relative error percentage = -0.04%"
   ]
  }
 ],
 "metadata": {
  "kernelspec": {
   "display_name": "base",
   "language": "python",
   "name": "python3"
  },
  "language_info": {
   "codemirror_mode": {
    "name": "ipython",
    "version": 3
   },
   "file_extension": ".py",
   "mimetype": "text/x-python",
   "name": "python",
   "nbconvert_exporter": "python",
   "pygments_lexer": "ipython3",
   "version": "3.11.5"
  }
 },
 "nbformat": 4,
 "nbformat_minor": 2
}
